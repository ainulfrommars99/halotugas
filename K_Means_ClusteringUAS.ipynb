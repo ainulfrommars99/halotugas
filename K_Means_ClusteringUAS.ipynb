{
  "cells": [
    {
      "cell_type": "markdown",
      "metadata": {
        "id": "view-in-github",
        "colab_type": "text"
      },
      "source": [
        "<a href=\"https://colab.research.google.com/github/ainulfrommars99/halotugas/blob/main/K_Means_ClusteringUAS.ipynb\" target=\"_parent\"><img src=\"https://colab.research.google.com/assets/colab-badge.svg\" alt=\"Open In Colab\"/></a>"
      ]
    },
    {
      "cell_type": "markdown",
      "metadata": {
        "id": "1Sn6R2zRv8hi"
      },
      "source": [
        "# K Means Clustering Applications\n",
        "\n",
        "In this notebook, I give you several basic applications of K Means Clustering algorithm (clustering in general)"
      ]
    },
    {
      "cell_type": "code",
      "execution_count": 1,
      "metadata": {
        "colab": {
          "base_uri": "https://localhost:8080/",
          "height": 384
        },
        "id": "c7GND8-3v8hk",
        "outputId": "9eb22e49-6286-4328-f5de-13b0b0800344"
      },
      "outputs": [
        {
          "output_type": "error",
          "ename": "ModuleNotFoundError",
          "evalue": "No module named 'k_means'",
          "traceback": [
            "\u001b[0;31m---------------------------------------------------------------------------\u001b[0m",
            "\u001b[0;31mModuleNotFoundError\u001b[0m                       Traceback (most recent call last)",
            "\u001b[0;32m/tmp/ipython-input-1-2417051915.py\u001b[0m in \u001b[0;36m<cell line: 0>\u001b[0;34m()\u001b[0m\n\u001b[1;32m      1\u001b[0m \u001b[0mget_ipython\u001b[0m\u001b[0;34m(\u001b[0m\u001b[0;34m)\u001b[0m\u001b[0;34m.\u001b[0m\u001b[0mrun_line_magic\u001b[0m\u001b[0;34m(\u001b[0m\u001b[0;34m'matplotlib'\u001b[0m\u001b[0;34m,\u001b[0m \u001b[0;34m'notebook'\u001b[0m\u001b[0;34m)\u001b[0m\u001b[0;34m\u001b[0m\u001b[0;34m\u001b[0m\u001b[0m\n\u001b[1;32m      2\u001b[0m \u001b[0;34m\u001b[0m\u001b[0m\n\u001b[0;32m----> 3\u001b[0;31m \u001b[0;32mfrom\u001b[0m \u001b[0mk_means\u001b[0m \u001b[0;32mimport\u001b[0m \u001b[0mKMeans\u001b[0m\u001b[0;34m\u001b[0m\u001b[0;34m\u001b[0m\u001b[0m\n\u001b[0m\u001b[1;32m      4\u001b[0m \u001b[0;34m\u001b[0m\u001b[0m\n\u001b[1;32m      5\u001b[0m \u001b[0;32mimport\u001b[0m \u001b[0mnumpy\u001b[0m \u001b[0;32mas\u001b[0m \u001b[0mnp\u001b[0m\u001b[0;34m\u001b[0m\u001b[0;34m\u001b[0m\u001b[0m\n",
            "\u001b[0;31mModuleNotFoundError\u001b[0m: No module named 'k_means'",
            "",
            "\u001b[0;31m---------------------------------------------------------------------------\u001b[0;32m\nNOTE: If your import is failing due to a missing package, you can\nmanually install dependencies using either !pip or !apt.\n\nTo view examples of installing some common dependencies, click the\n\"Open Examples\" button below.\n\u001b[0;31m---------------------------------------------------------------------------\u001b[0m\n"
          ],
          "errorDetails": {
            "actions": [
              {
                "action": "open_url",
                "actionText": "Open Examples",
                "url": "/notebooks/snippets/importing_libraries.ipynb"
              }
            ]
          }
        }
      ],
      "source": [
        "%matplotlib notebook\n",
        "\n",
        "from k_means import KMeans\n",
        "\n",
        "import numpy as np\n",
        "import pandas as pd\n",
        "import matplotlib.pyplot as plt\n",
        "import seaborn as sns\n",
        "import cv2\n",
        "from skimage import io\n",
        "import time\n",
        "\n",
        "from sklearn.cluster import KMeans as KMeans_"
      ]
    },
    {
      "cell_type": "markdown",
      "metadata": {
        "id": "f2DAGTsCv8hk"
      },
      "source": [
        "## Simple Customer Segmentation"
      ]
    },
    {
      "cell_type": "code",
      "execution_count": null,
      "metadata": {
        "scrolled": false,
        "id": "vxxM4_v-v8hl"
      },
      "outputs": [],
      "source": [
        "df = pd.read_csv('example_datasets/Mall_Customers.csv')\n",
        "df"
      ]
    },
    {
      "cell_type": "code",
      "execution_count": null,
      "metadata": {
        "id": "aqIl-LeQv8hl"
      },
      "outputs": [],
      "source": [
        "X = df[['Annual Income (k$)', 'Spending Score (1-100)']]"
      ]
    },
    {
      "cell_type": "code",
      "execution_count": null,
      "metadata": {
        "id": "2ILZ2hvzv8hl"
      },
      "outputs": [],
      "source": [
        "plt.close()\n",
        "plt.style.use('seaborn')\n",
        "plt.scatter(X['Annual Income (k$)'], X['Spending Score (1-100)'])\n",
        "plt.xlabel('Annual Income (k$)')\n",
        "plt.ylabel('Spending Score (1-100)')"
      ]
    },
    {
      "cell_type": "code",
      "execution_count": null,
      "metadata": {
        "scrolled": true,
        "id": "ee765t2_v8hl"
      },
      "outputs": [],
      "source": [
        "model = KMeans(max_iter = 500, tolerance = 0.001, n_clusters = 5, runs = 100)\n",
        "(clusters, data_with_clusters) = model.fit(X)"
      ]
    },
    {
      "cell_type": "code",
      "execution_count": null,
      "metadata": {
        "id": "XFr4RHWQv8hm"
      },
      "outputs": [],
      "source": [
        "model.cost_"
      ]
    },
    {
      "cell_type": "code",
      "execution_count": null,
      "metadata": {
        "scrolled": true,
        "id": "I3jWpU7Ov8hm"
      },
      "outputs": [],
      "source": [
        "plt.close()\n",
        "for i, cluster_mean in enumerate(clusters):\n",
        "    data_cluster_i = data_with_clusters[ data_with_clusters[:, -1] == i ]\n",
        "    plt.scatter(data_cluster_i[:, 0], data_cluster_i[:, 1], label = 'Cluster ' + str(i))\n",
        "    plt.plot(cluster_mean[0], cluster_mean[1], label = 'Centroid ' + str(i), marker='*', markersize=15, markeredgecolor=\"k\", markeredgewidth=1)\n",
        "    plt.xlabel('Annual Income (k$)')\n",
        "    plt.ylabel('Spending Score (1-100)')\n",
        "    plt.style.use('seaborn')\n",
        "    plt.legend()"
      ]
    },
    {
      "cell_type": "markdown",
      "metadata": {
        "id": "QKjdSSlWv8hm"
      },
      "source": [
        "## Searching for optimum K by Elbow Method"
      ]
    },
    {
      "cell_type": "code",
      "execution_count": null,
      "metadata": {
        "id": "5rCgUF3Fv8hm"
      },
      "outputs": [],
      "source": [
        "def elbow_method(X, max_k = 10):\n",
        "    costs = []\n",
        "    for k in range(2, max_k):\n",
        "        model = KMeans(n_clusters=k, init_method='var_part')\n",
        "        model.fit(X)\n",
        "        costs.append(model.cost_)\n",
        "    plt.close()\n",
        "    plt.plot(list(range(2, max_k)), costs)\n",
        "    plt.xlabel(\"# of clusters (K)\")\n",
        "    plt.ylabel(\"Cost\")"
      ]
    },
    {
      "cell_type": "code",
      "execution_count": null,
      "metadata": {
        "id": "ITrt-xffv8hn"
      },
      "outputs": [],
      "source": [
        "elbow_method(X)"
      ]
    }
  ],
  "metadata": {
    "kernelspec": {
      "display_name": "Python 3.8.1 64-bit",
      "language": "python",
      "name": "python38164bitb67002bdd6e54363b3a4785271f5d5b5"
    },
    "language_info": {
      "codemirror_mode": {
        "name": "ipython",
        "version": 3
      },
      "file_extension": ".py",
      "mimetype": "text/x-python",
      "name": "python",
      "nbconvert_exporter": "python",
      "pygments_lexer": "ipython3",
      "version": "3.8.2"
    },
    "colab": {
      "provenance": [],
      "include_colab_link": true
    }
  },
  "nbformat": 4,
  "nbformat_minor": 0
}